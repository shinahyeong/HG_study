{
  "nbformat": 4,
  "nbformat_minor": 0,
  "metadata": {
    "colab": {
      "provenance": []
    },
    "kernelspec": {
      "name": "python3",
      "display_name": "Python 3"
    },
    "language_info": {
      "name": "python"
    }
  },
  "cells": [
    {
      "cell_type": "markdown",
      "source": [
        "##Chapter 01. 파이썬 시작하기\n",
        "###1.1 파이썬을 하기 전에 읽는 간단한 설명\n",
        "**간단한 용어 설명**\n",
        "- **프로그램(pro+gram)** : 미리+ 작성된 것 = 미리 작성된 것 = 진행 계획\n",
        "- **컴퓨터 프로그램** : 컴퓨터가 무엇을 해야 할 지 미리 작성한 진행 계획\n",
        "- **이진 숫자** : 0과 1로 이루어진 컴퓨터를 위한 언어\n",
        "- **프로그래밍 언어** :컴퓨터를 위한 언어를 사람이 이해하기 위한 언어\n",
        "- **소스 코드** : 프로그래밍 언어로 작성한 프로그램\n",
        "\n",
        "**파이썬(Python)**\n",
        "- 1991년 귀도 반 로섬이 발표한 프로그래밍 언어\n",
        "- 초보자가 쉽게 배울 수 있는 프로그래밍 언어\n",
        "- 파이썬 장점\n",
        "  - 문법이 간단하다.\n",
        "  - 많은 사람들이 사용하고 있어 다양한 분야에서 활용이 가능하다.\n",
        "  - 대부분의 운영체제(윈도우, 맥, 리눅스)에서 동일하게 사용된다.\n",
        "- 파이썬 단점\n",
        "  - C언어에 비해 10~35배 정도 느리다.\n",
        "\n",
        "###1.2 파이썬을 배우기 위해 준비해야 할 것들\n",
        "\n",
        "1. 개발 환경 준비\n",
        "- **개발 환경**: 프로그래밍을 배우기 위해 프로그래밍을 할 수 있는 환경을 만드는 과정\n",
        "- **텍스트 에디터 + 코드 실행기**\n",
        "  - 텍스트 에디터: 프로그래밍 언어로 이루어진 코드를 작성할 수 있음\n",
        "  - 코드 실행기: 파이썬에서는 파이썬 코드를 실행할 수 있는 도구인 **파이썬 인터프리터**가 필요함\n",
        "\n",
        "2. 파이썬 설치하기\n",
        "- 파이썬 설치 프로그램 다운받기 (파이썬 공식 홈페이지)\n",
        "\n",
        "3. 파이썬 실행하기: 파이썬 인터렉티브 셸\n",
        "- **파이썬 인터렉티브 셸** : 파이썬 코드를 한 줄 한 줄 입력하면서 실행 결과를 볼 수 있는 공간\n",
        "- 구성\n",
        "  - **프롬프트** : >>>로 생긴 부분 -> 코드를 한 줄 한 줄 입력하면 바바로 실행 결과를 볼 수 있음\n",
        "  - **인터렉티브 셸** : 컴퓨터와 상호 작하하는 공간 (= 대화형 셸)\n",
        "\n",
        "4. 텍스트 에디터 사용하기(1) : 파이썬 IDLE 에디터\n",
        "- 인터렉티브 셸 : 간단한 실행 결과 등을 확인할 때 유용\n",
        "- 텍스트 에디터 : 긴 코드를 입력하거나 코드를 저장할 때 유용\n",
        "\n",
        "5. 텍스트 에디터 사용하기(2): 비주얼 스튜디오 코드\n",
        "- IDLE : 파이썬 프로그램을 혼자 간단히 개발하는 경우 사용하기는 괜찮으나 기능이 많지 않음 -> 긴 코딩에 불리함\n",
        "- 비주얼 스튜디오(VSCode) : 프로그래밍 언어를 쉽게 작성할 수 있도록 도와주는 텍스트 에디터"
      ],
      "metadata": {
        "id": "ewLaTmfFymxF"
      }
    },
    {
      "cell_type": "code",
      "execution_count": null,
      "metadata": {
        "colab": {
          "base_uri": "https://localhost:8080/"
        },
        "id": "MNoEBQ1XybMx",
        "outputId": "df501d99-e432-42a5-f497-ce0dbfb30ad7"
      },
      "outputs": [
        {
          "output_type": "stream",
          "name": "stdout",
          "text": [
            "Hello Python\n"
          ]
        }
      ],
      "source": [
        "# 확인 문제\n",
        "# 1. 파이썬 IDLE 에디터를 실행한 후 명령어를 입력했을 때 나오는 결과 확인하기\n",
        "print(\"Hello Python\")"
      ]
    },
    {
      "cell_type": "code",
      "source": [
        "# 2. 소스 코드를 입력하고 실행하여 나오는 결과 확인하기\n",
        "print(\"Hello! \"*3)\n",
        "print(\"혼자 공부하다 모르면 동영상 강의를 참고하세요!\")"
      ],
      "metadata": {
        "colab": {
          "base_uri": "https://localhost:8080/"
        },
        "id": "HHTW2adr37gO",
        "outputId": "254a508c-ee0c-4b8e-f7a7-61266c94d28c"
      },
      "execution_count": null,
      "outputs": [
        {
          "output_type": "stream",
          "name": "stdout",
          "text": [
            "Hello! Hello! Hello! \n",
            "혼자 공부하다 모르면 동영상 강의를 참고하세요!\n"
          ]
        }
      ]
    },
    {
      "cell_type": "markdown",
      "source": [
        "### 1.3 자주 나오는 파이썬 용어들\n",
        "- **문장** : 실행할 수 있는 코드의 최소 단위\n",
        "- **프로그램** : 문장들이 모여 이루는 형태\n",
        "- **표현식** : 파이썬에서 어떠한 값(숫자, 수식, 문자열 등)을 만들어 내는 간단한 코드\n",
        "- **키워드** : 특벼려한 의미가 부여된 단어로, 파이썬이 만들어질 때 이미 사용하겠다고 예약해 놓은 단어\n",
        "  - 사용자는 이름을 정할 때 키워드를 사용하면 안됨\n",
        "  - 예시: False, None, elif, if 등\n",
        "  \n"
      ],
      "metadata": {
        "id": "DRIKzWMk4Q4j"
      }
    },
    {
      "cell_type": "code",
      "source": [
        "#사용해야 하는 단어가 키워드인지 아닌지를 확인하는 방법\n",
        "import keyword\n",
        "print(keyword.kwlist)"
      ],
      "metadata": {
        "colab": {
          "base_uri": "https://localhost:8080/"
        },
        "id": "fUlQD7CI4PqK",
        "outputId": "19bd5005-6e50-448a-c612-4e14dc0160fb"
      },
      "execution_count": null,
      "outputs": [
        {
          "output_type": "stream",
          "name": "stdout",
          "text": [
            "['False', 'None', 'True', 'and', 'as', 'assert', 'async', 'await', 'break', 'class', 'continue', 'def', 'del', 'elif', 'else', 'except', 'finally', 'for', 'from', 'global', 'if', 'import', 'in', 'is', 'lambda', 'nonlocal', 'not', 'or', 'pass', 'raise', 'return', 'try', 'while', 'with', 'yield']\n"
          ]
        }
      ]
    },
    {
      "cell_type": "markdown",
      "source": [
        "- **식별자** : 프로그래밍 언어에서 이름을 붙일 때 사용하는 단어\n",
        "  - 식별자의 원칙\n",
        "    - 키워드를 사용하면 안된다.\n",
        "    - 특수 문자는 (_)만 허용된다.\n",
        "    - 숫자로 시작하면 안된다.\n",
        "    - 공백을 포함할 수 없다.\n",
        "  - snake_case vs CamelCase\n",
        "    - snake_case : 단어 사이에 (_)기호를 붙여 식별자를 형성 (소문자로 시작)\n",
        "      - 뒤에 괄호 o : 함수\n",
        "      - 뒤에 괄호 x : 변수\n",
        "    - CamelCase : 단어들의 첫 글자를 대문자로 만들어 식별자를 형성 (대문자로 시작)\n",
        "      \n",
        "      -> 클래스\n",
        "- **주석** : 프로그램의 진행에 전혀 영향을 주지 않는 코드\n",
        "  - 앞에 # 기호를 붙여 주석처리를 수행\n",
        "- **연산자** : 스스로 값이 되는 것은 아니고, 값과 값 사이에 무언가 기느을 적용할 때 사용하는 것\n",
        "- **자료(literal)** : 숫자이든 문자이든 간에 어떠한 값 자체를 의미\n",
        "\n",
        "출력: print()\n",
        "- print() : 함수의 괄호 안에 출력하고자 하는 것을 나열해서 사용\n",
        "\n",
        "  "
      ],
      "metadata": {
        "id": "NyuXTonX59g5"
      }
    },
    {
      "cell_type": "code",
      "source": [
        "# 하나만 출력하기\n",
        "print(\"Hello Python Programming...!\")\n",
        "print(52)\n",
        "print(273)"
      ],
      "metadata": {
        "colab": {
          "base_uri": "https://localhost:8080/"
        },
        "id": "PA9D9OYX8e0R",
        "outputId": "36b79d21-ca7c-4c06-9497-388dc78adb33"
      },
      "execution_count": null,
      "outputs": [
        {
          "output_type": "stream",
          "name": "stdout",
          "text": [
            "Hello Python Programming...!\n",
            "52\n",
            "273\n"
          ]
        }
      ]
    },
    {
      "cell_type": "code",
      "source": [
        "# 여러 개 출력하기\n",
        "print(52, 273, \"Hello\")\n",
        "print(\"안녕하세요\", \"저의\", \"이름은\", \"윤인성입니다!\")"
      ],
      "metadata": {
        "colab": {
          "base_uri": "https://localhost:8080/"
        },
        "id": "MPBo9PxQ8rKm",
        "outputId": "4d4bdec1-5581-4d83-8c0a-5b411a3ace63"
      },
      "execution_count": null,
      "outputs": [
        {
          "output_type": "stream",
          "name": "stdout",
          "text": [
            "52 273 Hello\n",
            "안녕하세요 저의 이름은 윤인성입니다!\n"
          ]
        }
      ]
    },
    {
      "cell_type": "code",
      "source": [
        "# 줄바꿈하기\n",
        "print()\n",
        "print(\"---확인 전용선---\")"
      ],
      "metadata": {
        "colab": {
          "base_uri": "https://localhost:8080/"
        },
        "id": "6Z8XXe0r82LV",
        "outputId": "06b29952-808a-434e-80d3-a7829b87ee4b"
      },
      "execution_count": null,
      "outputs": [
        {
          "output_type": "stream",
          "name": "stdout",
          "text": [
            "\n",
            "---확인 전용선---\n"
          ]
        }
      ]
    },
    {
      "cell_type": "code",
      "source": [
        "# 확인 문제\n",
        "#1. 파이썬에서 원하는 자료를 출력할 때 사용하는 함수를 사용하여 결과를 출력하기\n",
        "print(\"Hello Python\")"
      ],
      "metadata": {
        "colab": {
          "base_uri": "https://localhost:8080/"
        },
        "id": "qA4OCtE09Aco",
        "outputId": "94e7a957-cf51-49cb-f900-8aec9b724404"
      },
      "execution_count": null,
      "outputs": [
        {
          "output_type": "stream",
          "name": "stdout",
          "text": [
            "Hello Python\n"
          ]
        }
      ]
    },
    {
      "cell_type": "markdown",
      "source": [
        "## Chapter 02. 자료형\n",
        "###2.1 자료형과 문자열\n",
        "- **자료** : 프로그램이 처리할 수 있는 모든 것\n",
        "- **자료형** : 기능과 역할에 따라 자료를 구분해 놓은 형식\n",
        "  - 문자열(string): 안녕하세요, \"Hello World\"\n",
        "  - 숫자(number): 52, 273, 103.32\n",
        "  - 불(boolean): True, False\n",
        "  - 자료형을 확인하는 방법: type()함수 이용\n",
        "  \n"
      ],
      "metadata": {
        "id": "KpyIA1BO9MsB"
      }
    },
    {
      "cell_type": "code",
      "source": [
        "# 자료형을 확인하는 방법\n",
        "print(type(\"안녕하세요\"))\n",
        "print(type(273))"
      ],
      "metadata": {
        "colab": {
          "base_uri": "https://localhost:8080/"
        },
        "id": "SHtbTNlNBCOe",
        "outputId": "a3774c6b-c12d-434f-a2c0-14c328d938e9"
      },
      "execution_count": null,
      "outputs": [
        {
          "output_type": "stream",
          "name": "stdout",
          "text": [
            "<class 'str'>\n",
            "<class 'int'>\n"
          ]
        }
      ]
    },
    {
      "cell_type": "markdown",
      "source": [
        "문자열 만들기\n",
        "- 문자열: 글자들이 나열된 것으로, string이라고 부름\n"
      ],
      "metadata": {
        "id": "xg64o8riBOD7"
      }
    },
    {
      "cell_type": "code",
      "source": [
        "# 큰따옴표로 문자열 만들기\n",
        "print(\"안녕하세요\")"
      ],
      "metadata": {
        "colab": {
          "base_uri": "https://localhost:8080/"
        },
        "id": "T62rHvORBXHq",
        "outputId": "c93a07f5-8ca2-4bae-da92-63525a1bf58e"
      },
      "execution_count": null,
      "outputs": [
        {
          "output_type": "stream",
          "name": "stdout",
          "text": [
            "안녕하세요\n"
          ]
        }
      ]
    },
    {
      "cell_type": "code",
      "source": [
        "# 작은따옴표로 문자열 만들기\n",
        "print('안녕하세요')"
      ],
      "metadata": {
        "colab": {
          "base_uri": "https://localhost:8080/"
        },
        "id": "WKpNZbx8BbPv",
        "outputId": "6b07b86c-0a5b-4373-9dbb-b8a1e6e7f7bc"
      },
      "execution_count": null,
      "outputs": [
        {
          "output_type": "stream",
          "name": "stdout",
          "text": [
            "안녕하세요\n"
          ]
        }
      ]
    },
    {
      "cell_type": "code",
      "source": [
        "# 문자열 내부에 따옴표 넣기\n",
        "print(\"\"안녕하세요\"라고 말했습니다\")"
      ],
      "metadata": {
        "colab": {
          "base_uri": "https://localhost:8080/",
          "height": 109
        },
        "id": "BncP815_BkF-",
        "outputId": "9069a8be-a60b-4916-c14f-bc9556b9f610"
      },
      "execution_count": null,
      "outputs": [
        {
          "output_type": "error",
          "ename": "SyntaxError",
          "evalue": "invalid syntax. Perhaps you forgot a comma? (ipython-input-14-3887971450.py, line 3)",
          "traceback": [
            "\u001b[0;36m  File \u001b[0;32m\"/tmp/ipython-input-14-3887971450.py\"\u001b[0;36m, line \u001b[0;32m3\u001b[0m\n\u001b[0;31m    print(\"\"안녕하세요\"라고 말했습니다\")\u001b[0m\n\u001b[0m          ^\u001b[0m\n\u001b[0;31mSyntaxError\u001b[0m\u001b[0;31m:\u001b[0m invalid syntax. Perhaps you forgot a comma?\n"
          ]
        }
      ]
    },
    {
      "cell_type": "markdown",
      "source": [
        "다음과 같이 이용하는 경우, 오류가 발생\n",
        "\n",
        " -> 파이썬은 이와 같은 형태를 단순한 문자열과 문자열의 나열 형태로 인식하기 때문\n",
        "\n",
        "  => 구문 오류(SyntaxError) 발생!"
      ],
      "metadata": {
        "id": "GeSyUB9QB1__"
      }
    },
    {
      "cell_type": "code",
      "source": [
        "print('\"안녕하세요\"라고 말했습니다')"
      ],
      "metadata": {
        "colab": {
          "base_uri": "https://localhost:8080/"
        },
        "id": "rWMkEDxNCLf_",
        "outputId": "dcff3649-16e0-4019-a68d-5da0764f9659"
      },
      "execution_count": null,
      "outputs": [
        {
          "output_type": "stream",
          "name": "stdout",
          "text": [
            "\"안녕하세요\"라고 말했습니다\n"
          ]
        }
      ]
    },
    {
      "cell_type": "code",
      "source": [
        "# 작은따옴표도 마찬가지로 사용\n",
        "print(\"'배가 고픕니다'라고 생각했습니다\")"
      ],
      "metadata": {
        "colab": {
          "base_uri": "https://localhost:8080/"
        },
        "id": "Elg9ZhdLCTk3",
        "outputId": "f4f7c262-d80b-48ea-84a7-1ea3adca88b9"
      },
      "execution_count": null,
      "outputs": [
        {
          "output_type": "stream",
          "name": "stdout",
          "text": [
            "'배가 고픕니다'라고 생각했습니다\n"
          ]
        }
      ]
    },
    {
      "cell_type": "markdown",
      "source": [
        "이스케이프 문자를 사용하여 문자열 만들기\n",
        "- 이스케이프 문자(escape character) : 역슬래시(\\) 기호와 함께 조합하여 사용하는 특수한 문자를 의미\n",
        "  - \\\": 큰 따옴표를 의미\n",
        "  - \\': 작은 따옴표를 의미\n",
        "  - \\n: 줄 바꿈을 의미\n",
        "  - \\t: 탭을 의미\n",
        "  - \\\\: 역슬래시(\\)를 의미"
      ],
      "metadata": {
        "id": "oKdVx9F_Ca94"
      }
    },
    {
      "cell_type": "code",
      "source": [
        "# 위에서 나타낸 구문을 이스케이프 문자로 나타내기\n",
        "print(\"\\\"안녕하세요\\\"라고 말했습니다\")\n",
        "print('\\'배가 고픕니다\\'라고 생각했습니다')"
      ],
      "metadata": {
        "colab": {
          "base_uri": "https://localhost:8080/"
        },
        "id": "mEMGxGMwCuCl",
        "outputId": "735acf41-2c6a-439d-e8d4-2ff0a05048e0"
      },
      "execution_count": null,
      "outputs": [
        {
          "output_type": "stream",
          "name": "stdout",
          "text": [
            "\"안녕하세요\"라고 말했습니다\n",
            "'배가 고픕니다'라고 생각했습니다\n"
          ]
        }
      ]
    },
    {
      "cell_type": "code",
      "source": [
        "# 여러 줄 문자열 만들기\n",
        "print(\"동해물과 백두산이 마르고 닳도록\\n하느님이 보우하사 우리나라 만세\\n무궁화 삼천리 화려강산 대한사람\\n대한으로 길이 보전하세\")"
      ],
      "metadata": {
        "colab": {
          "base_uri": "https://localhost:8080/"
        },
        "id": "aOxndhelDJfF",
        "outputId": "ac3ba827-5a2a-4b78-fe72-0c3bb040ba52"
      },
      "execution_count": null,
      "outputs": [
        {
          "output_type": "stream",
          "name": "stdout",
          "text": [
            "동해물과 백두산이 마르고 닳도록\n",
            "하느님이 보우하사 우리나라 만세\n",
            "무궁화 삼천리 화려강산 대한사람\n",
            "대한으로 길이 보전하세\n"
          ]
        }
      ]
    },
    {
      "cell_type": "code",
      "source": [
        "# 여러 줄 문자열 기능을 사용한 경우\n",
        "print(\"\"\"동해물과 백두산이 마르고 닳도록\n",
        "하느님이 보우하사 우리나라 만세\n",
        "무궁화 삼천리 화려강산 대한사람\n",
        "대한으로 길이 보전하세\"\"\")"
      ],
      "metadata": {
        "colab": {
          "base_uri": "https://localhost:8080/"
        },
        "id": "35C1C9BtDf8N",
        "outputId": "b03aaa25-6cc8-4ab9-bae4-13237369d8ff"
      },
      "execution_count": null,
      "outputs": [
        {
          "output_type": "stream",
          "name": "stdout",
          "text": [
            "동해물과 백두산이 마르고 닳도록\n",
            "하느님이 보우하사 우리나라 만세\n",
            "무궁화 삼천리 화려강산 대한사람\n",
            "대한으로 길이 보전하세\n"
          ]
        }
      ]
    },
    {
      "cell_type": "markdown",
      "source": [
        "위의 경우보다 코드를 더욱 쉽고 간편하게 읽을 수 있음"
      ],
      "metadata": {
        "id": "M1jCQlgsDtEF"
      }
    },
    {
      "cell_type": "code",
      "source": [
        "# 줄바꿈 없이 문자열 만들기\n",
        "# \\기호를 사용\n",
        "print(\"\"\"\\\n",
        "동해물과 백두산이 마르고 닳도록\n",
        "하느님이 보우하사 우리나라 만세\n",
        "무궁화 삼천리 화려강산 대한사람\n",
        "대한으로 길이 보전하세\\\n",
        "\"\"\")"
      ],
      "metadata": {
        "colab": {
          "base_uri": "https://localhost:8080/"
        },
        "id": "CWVdqE5hDzFQ",
        "outputId": "b17114cd-4172-47da-f348-93d33e188adc"
      },
      "execution_count": null,
      "outputs": [
        {
          "output_type": "stream",
          "name": "stdout",
          "text": [
            "동해물과 백두산이 마르고 닳도록 \n",
            "하느님이 보우하사 우리나라 만세\n",
            "무궁화 삼천리 화려강산 대한사람\n",
            "대한으로 길이 보전하세\n"
          ]
        }
      ]
    },
    {
      "cell_type": "markdown",
      "source": [
        "- \\기호: 코드를 쉽게 보기 위해 줄바꿈을 한 것이지 실질적인 줄바꿈이 아님을 나타낼 때도 자주 사용"
      ],
      "metadata": {
        "id": "ocKI9oeuEL6l"
      }
    },
    {
      "cell_type": "markdown",
      "source": [
        "문자열 연산자\n",
        "- 문자열 연결 연산자: +\n",
        "  - \"문자열\" + \"문자열\"\n",
        "  - 두 문자열을 연결해서 새로운 문자열을 형성\n",
        "  "
      ],
      "metadata": {
        "id": "LHVMQ5yFEUBz"
      }
    },
    {
      "cell_type": "code",
      "source": [
        "print(\"안녕\"+\"하세요\")"
      ],
      "metadata": {
        "colab": {
          "base_uri": "https://localhost:8080/"
        },
        "id": "RpgZclroEii3",
        "outputId": "f65fe0f9-f743-4bd4-bb42-642854b9b437"
      },
      "execution_count": null,
      "outputs": [
        {
          "output_type": "stream",
          "name": "stdout",
          "text": [
            "안녕하세요\n"
          ]
        }
      ]
    },
    {
      "cell_type": "code",
      "source": [
        "print(\"안녕하세요\"+1)"
      ],
      "metadata": {
        "colab": {
          "base_uri": "https://localhost:8080/",
          "height": 145
        },
        "id": "XngpTF_HEu5u",
        "outputId": "0d5c574c-844f-4c79-bffc-10ffce278199"
      },
      "execution_count": null,
      "outputs": [
        {
          "output_type": "error",
          "ename": "TypeError",
          "evalue": "can only concatenate str (not \"int\") to str",
          "traceback": [
            "\u001b[0;31m---------------------------------------------------------------------------\u001b[0m",
            "\u001b[0;31mTypeError\u001b[0m                                 Traceback (most recent call last)",
            "\u001b[0;32m/tmp/ipython-input-22-1782111126.py\u001b[0m in \u001b[0;36m<cell line: 0>\u001b[0;34m()\u001b[0m\n\u001b[0;32m----> 1\u001b[0;31m \u001b[0mprint\u001b[0m\u001b[0;34m(\u001b[0m\u001b[0;34m\"안녕하세요\"\u001b[0m\u001b[0;34m+\u001b[0m\u001b[0;36m1\u001b[0m\u001b[0;34m)\u001b[0m\u001b[0;34m\u001b[0m\u001b[0;34m\u001b[0m\u001b[0m\n\u001b[0m",
            "\u001b[0;31mTypeError\u001b[0m: can only concatenate str (not \"int\") to str"
          ]
        }
      ]
    },
    {
      "cell_type": "markdown",
      "source": [
        "문자열의 경우. 문자끼리만 연결할 수 있고 숫자와의 연결이 불가능함!\n",
        "\n",
        "-> 숫자를 더하는 경우 반드시 숫자와 숫자 사이에 +연산자를 사용해서 연산해야 함\n",
        "- 문자열 반복 연산자: *\n",
        "  - 문자열 * 숫자 or 숫자 * 문자열의 형태로 나타냄"
      ],
      "metadata": {
        "id": "8pvPGpg6EyJU"
      }
    },
    {
      "cell_type": "code",
      "source": [
        "print(3*\"안녕하세요\")"
      ],
      "metadata": {
        "colab": {
          "base_uri": "https://localhost:8080/"
        },
        "id": "CWZVEQv-FGqv",
        "outputId": "ca516448-0bc9-4144-ead9-ef78494ec467"
      },
      "execution_count": null,
      "outputs": [
        {
          "output_type": "stream",
          "name": "stdout",
          "text": [
            "안녕하세요안녕하세요안녕하세요\n"
          ]
        }
      ]
    },
    {
      "cell_type": "markdown",
      "source": [
        "- 문자 선택 연산자(인덱싱):[]\n",
        "  - 문자열 내부의 문자 하나를 선택하는 연산자\n",
        "  - 대괄호 내에 선택할 문자의 위치를 지정하며, 이 숫자를 인덱스(index)라고 부름\n",
        "  - 인덱스 유형\n",
        "    - 제로 인덱스: 숫자를 0부터 세는 경우\n",
        "    - 원 인덱스: 숫자를 1부터 세는 경우\n",
        "  - 대괄호 내에 숫자를 음수로 입력하면 뒤에서부터 선택할 수 있음\n",
        "- 문자열 범위 선택 연산자(슬라이싱): [:]\n",
        "  - 문자열의 특정 범위를 선택할 때 사용하는 연산자\n",
        "  - 범위는 대괄호 안에 위치를 콜론(:)으로 구분해서 지정함\n",
        "  - 범위는 반드시 [a:b]로 지정되며, 이는 a 이상 b 미만으로 출력됨\n",
        "  - 대괄호 안에 넣는 숫자 둘 중 하나를 생략하여 나타내기도 함\n",
        "    - [:2]: 가장 앞쪽의 위치부터 1번째 인덱스까지 지정\n",
        "    - [2:]: 2번째 인덱스부터 끝까지 지정\n",
        "    "
      ],
      "metadata": {
        "id": "cc9aIAq9FWTc"
      }
    },
    {
      "cell_type": "code",
      "source": [
        "print(\"안녕하세요\"[1:])"
      ],
      "metadata": {
        "colab": {
          "base_uri": "https://localhost:8080/"
        },
        "id": "-FO6qQpkGzZv",
        "outputId": "33e76fdd-375a-47af-a9d4-ae069b30036e"
      },
      "execution_count": null,
      "outputs": [
        {
          "output_type": "stream",
          "name": "stdout",
          "text": [
            "녕하세요\n"
          ]
        }
      ]
    },
    {
      "cell_type": "code",
      "source": [
        "print(\"안녕하세요\"[:3])"
      ],
      "metadata": {
        "colab": {
          "base_uri": "https://localhost:8080/"
        },
        "id": "emVELwOFG3_w",
        "outputId": "9032cad5-f7d1-452b-e07a-49f86d26e696"
      },
      "execution_count": null,
      "outputs": [
        {
          "output_type": "stream",
          "name": "stdout",
          "text": [
            "안녕하\n"
          ]
        }
      ]
    },
    {
      "cell_type": "markdown",
      "source": [
        "- IndexError(index out of range) 예외 : 리스트/문자열의 수를 넘는 요소/글자를 선택할 때 발생"
      ],
      "metadata": {
        "id": "pqfYv_dBG_qM"
      }
    },
    {
      "cell_type": "code",
      "source": [
        "print(\"안녕하세요\"[10])"
      ],
      "metadata": {
        "colab": {
          "base_uri": "https://localhost:8080/",
          "height": 145
        },
        "id": "DYn-hIFKHIdY",
        "outputId": "58e6fa59-ad7e-4342-fe24-03a65a5d2112"
      },
      "execution_count": null,
      "outputs": [
        {
          "output_type": "error",
          "ename": "IndexError",
          "evalue": "string index out of range",
          "traceback": [
            "\u001b[0;31m---------------------------------------------------------------------------\u001b[0m",
            "\u001b[0;31mIndexError\u001b[0m                                Traceback (most recent call last)",
            "\u001b[0;32m/tmp/ipython-input-26-2970902819.py\u001b[0m in \u001b[0;36m<cell line: 0>\u001b[0;34m()\u001b[0m\n\u001b[0;32m----> 1\u001b[0;31m \u001b[0mprint\u001b[0m\u001b[0;34m(\u001b[0m\u001b[0;34m\"안녕하세요\"\u001b[0m\u001b[0;34m[\u001b[0m\u001b[0;36m10\u001b[0m\u001b[0;34m]\u001b[0m\u001b[0;34m)\u001b[0m\u001b[0;34m\u001b[0m\u001b[0;34m\u001b[0m\u001b[0m\n\u001b[0m",
            "\u001b[0;31mIndexError\u001b[0m: string index out of range"
          ]
        }
      ]
    },
    {
      "cell_type": "markdown",
      "source": [
        "문자열의 길이 구하기\n",
        "- len() 함수 사용\n",
        "  - 문자열에 들어가 있는 문자의 개수(=문자열의 길이)를 세어줌"
      ],
      "metadata": {
        "id": "GAbH1Q6ZHNms"
      }
    },
    {
      "cell_type": "code",
      "source": [
        "print(len(\"안녕하세요\"))"
      ],
      "metadata": {
        "colab": {
          "base_uri": "https://localhost:8080/"
        },
        "id": "MqlZOoIHHXl8",
        "outputId": "c7b36f35-46b4-4b6c-9f65-405902dc2ea0"
      },
      "execution_count": null,
      "outputs": [
        {
          "output_type": "stream",
          "name": "stdout",
          "text": [
            "5\n"
          ]
        }
      ]
    },
    {
      "cell_type": "code",
      "source": [
        "# 확인문제\n",
        "# 3. 다음 프로그램의 실행 결과를 예측하기\n",
        "print(\"# 연습 문제\")\n",
        "print(\"\\\\\\\\\\\\\\\\\")\n",
        "print(\"-\" * 8)"
      ],
      "metadata": {
        "colab": {
          "base_uri": "https://localhost:8080/"
        },
        "id": "eLcpUwYfHc8o",
        "outputId": "c63ecb76-e0fa-46cb-c10d-d95bf06c72d1"
      },
      "execution_count": null,
      "outputs": [
        {
          "output_type": "stream",
          "name": "stdout",
          "text": [
            "# 연습 문제\n",
            "\\\\\\\\\n",
            "--------\n"
          ]
        }
      ]
    },
    {
      "cell_type": "code",
      "source": [
        "# 4. 다음 프로그램의 실행 결과를 예측해보고, 이 실행결과의 오류는 어디서 발생하는지 예측하기 (이유 작성)\n",
        "print(\"안녕하세요\"[1])\n",
        "print(\"안녕하세요\"[2])\n",
        "print(\"안녕하세요\"[3])\n",
        "print(\"안녕하세요\"[4])\n",
        "print(\"안녕하세요\"[5])"
      ],
      "metadata": {
        "colab": {
          "base_uri": "https://localhost:8080/",
          "height": 253
        },
        "id": "4tHvWZLOHpln",
        "outputId": "6105038f-e015-4231-f56e-cb8cd9c8cb5a"
      },
      "execution_count": null,
      "outputs": [
        {
          "output_type": "stream",
          "name": "stdout",
          "text": [
            "녕\n",
            "하\n",
            "세\n",
            "요\n"
          ]
        },
        {
          "output_type": "error",
          "ename": "IndexError",
          "evalue": "string index out of range",
          "traceback": [
            "\u001b[0;31m---------------------------------------------------------------------------\u001b[0m",
            "\u001b[0;31mIndexError\u001b[0m                                Traceback (most recent call last)",
            "\u001b[0;32m/tmp/ipython-input-29-1448552792.py\u001b[0m in \u001b[0;36m<cell line: 0>\u001b[0;34m()\u001b[0m\n\u001b[1;32m      4\u001b[0m \u001b[0mprint\u001b[0m\u001b[0;34m(\u001b[0m\u001b[0;34m\"안녕하세요\"\u001b[0m\u001b[0;34m[\u001b[0m\u001b[0;36m3\u001b[0m\u001b[0;34m]\u001b[0m\u001b[0;34m)\u001b[0m\u001b[0;34m\u001b[0m\u001b[0;34m\u001b[0m\u001b[0m\n\u001b[1;32m      5\u001b[0m \u001b[0mprint\u001b[0m\u001b[0;34m(\u001b[0m\u001b[0;34m\"안녕하세요\"\u001b[0m\u001b[0;34m[\u001b[0m\u001b[0;36m4\u001b[0m\u001b[0;34m]\u001b[0m\u001b[0;34m)\u001b[0m\u001b[0;34m\u001b[0m\u001b[0;34m\u001b[0m\u001b[0m\n\u001b[0;32m----> 6\u001b[0;31m \u001b[0mprint\u001b[0m\u001b[0;34m(\u001b[0m\u001b[0;34m\"안녕하세요\"\u001b[0m\u001b[0;34m[\u001b[0m\u001b[0;36m5\u001b[0m\u001b[0;34m]\u001b[0m\u001b[0;34m)\u001b[0m\u001b[0;34m\u001b[0m\u001b[0;34m\u001b[0m\u001b[0m\n\u001b[0m",
            "\u001b[0;31mIndexError\u001b[0m: string index out of range"
          ]
        }
      ]
    },
    {
      "cell_type": "markdown",
      "source": [
        "오류는 마지막 줄에서 발생\n",
        "\n",
        "이유: 예외 처리의 오류로, 안녕하세요의 인덱스는 0부터 4까지만 존재하기 때문에 인덱스 범위를 초과하여 발생"
      ],
      "metadata": {
        "id": "upb9FGSTIBwl"
      }
    },
    {
      "cell_type": "code",
      "source": [
        "# 5. 프로그램의 실행결과 예측하기\n",
        "print(\"안녕하세요\"[1:3])\n",
        "print(\"안녕하세요\"[2:4])\n",
        "print(\"안녕하세요\"[1:])\n",
        "print(\"안녕하세요\"[:3])"
      ],
      "metadata": {
        "colab": {
          "base_uri": "https://localhost:8080/"
        },
        "id": "EepmujrsIWkT",
        "outputId": "676e3035-58c1-4d68-b0a3-7280bd01c7d7"
      },
      "execution_count": null,
      "outputs": [
        {
          "output_type": "stream",
          "name": "stdout",
          "text": [
            "녕하\n",
            "하세\n",
            "녕하세요\n",
            "안녕하\n"
          ]
        }
      ]
    },
    {
      "cell_type": "markdown",
      "source": [
        "###2.2 숫자\n",
        "- **정수형** : 소수점이 없는 숫자\n",
        "  - 0, 1, 273, -52\n",
        "- **실수형** : 소수점이 있는 숫자\n",
        "  - 3.14, 0.0\n",
        "- **부동 소수점** : 소수점이 움직이는 숫자\n",
        "\n",
        "숫자의 종류\n",
        "- int: 정수형\n",
        "- float: 부동소수점(실수)"
      ],
      "metadata": {
        "id": "GSs9uP7yITUD"
      }
    },
    {
      "cell_type": "code",
      "source": [
        "print(0)\n",
        "print(type(0))\n",
        "print(0.0)\n",
        "print(type(0.0))"
      ],
      "metadata": {
        "colab": {
          "base_uri": "https://localhost:8080/"
        },
        "id": "MTkedk2FJH9V",
        "outputId": "c3472bde-2762-4f0c-9e1c-62a5837fcf36"
      },
      "execution_count": null,
      "outputs": [
        {
          "output_type": "stream",
          "name": "stdout",
          "text": [
            "0\n",
            "<class 'int'>\n",
            "0.0\n",
            "<class 'float'>\n"
          ]
        }
      ]
    },
    {
      "cell_type": "markdown",
      "source": [
        "숫자 연산자\n",
        "- 사칙 연산자: +, -, *, /\n",
        "  - +: 덧셈 연산자\n",
        "  - -: 뺄셈 연산자\n",
        "  - *: 곱셈 연산자\n",
        "  - /: 나눗셈 연산자"
      ],
      "metadata": {
        "id": "h5_9fE1sJRRs"
      }
    },
    {
      "cell_type": "code",
      "source": [
        "print(\"5+7 = \", 5+7)\n",
        "print(\"5-7 = \", 5-7)\n",
        "print(\"5*7 = \", 5*7)\n",
        "print(\"5/7 = \", 5/7)"
      ],
      "metadata": {
        "colab": {
          "base_uri": "https://localhost:8080/"
        },
        "id": "oOjfxtLRJfde",
        "outputId": "b307c992-8eb4-4ffe-ec81-c11ff6f95d65"
      },
      "execution_count": null,
      "outputs": [
        {
          "output_type": "stream",
          "name": "stdout",
          "text": [
            "5+7 =  12\n",
            "5-7 =  -2\n",
            "5*7 =  35\n",
            "5/7 =  0.7142857142857143\n"
          ]
        }
      ]
    },
    {
      "cell_type": "markdown",
      "source": [
        "- 정수 나누기 연산자: //\n",
        "  - 소수점 아래를 떼어 버린 값이 출력됨"
      ],
      "metadata": {
        "id": "qZZn8pYHJux3"
      }
    },
    {
      "cell_type": "code",
      "source": [
        "print(\"3/2 = \", 3/2)\n",
        "print(\"3//2 = \", 3//2)"
      ],
      "metadata": {
        "colab": {
          "base_uri": "https://localhost:8080/"
        },
        "id": "1iT9qp3RJ0ib",
        "outputId": "7e56f7e7-ddf9-4a66-f9af-040041d87819"
      },
      "execution_count": null,
      "outputs": [
        {
          "output_type": "stream",
          "name": "stdout",
          "text": [
            "3/2 =  1.5\n",
            "3//2 =  1\n"
          ]
        }
      ]
    },
    {
      "cell_type": "markdown",
      "source": [
        "- 나머지 연산자: %\n",
        "  - A를 B로 나누었을 때 남은 나머지를 구하는 연산자"
      ],
      "metadata": {
        "id": "5Tgd3q9PJ7cF"
      }
    },
    {
      "cell_type": "code",
      "source": [
        "print(\"5%2 = \", 5%2)"
      ],
      "metadata": {
        "colab": {
          "base_uri": "https://localhost:8080/"
        },
        "id": "lQ9Q0lt4KC3w",
        "outputId": "e3ae4ee9-2d5b-4308-9649-8c25c67f6334"
      },
      "execution_count": null,
      "outputs": [
        {
          "output_type": "stream",
          "name": "stdout",
          "text": [
            "5%2 =  1\n"
          ]
        }
      ]
    },
    {
      "cell_type": "markdown",
      "source": [
        "- 제곱 연산자: **\n",
        "  - 숫자를 제곱하는 연산자"
      ],
      "metadata": {
        "id": "gOrg5FJiKHbc"
      }
    },
    {
      "cell_type": "code",
      "source": [
        "print(\"2**1 = \", 2**1)\n",
        "print(\"2**2 = \", 2**2)\n",
        "print(\"2**3 = \", 2**3)"
      ],
      "metadata": {
        "colab": {
          "base_uri": "https://localhost:8080/"
        },
        "id": "mJtvqypFKK9d",
        "outputId": "09f75a2d-ce79-4652-bdd4-5e87a286b9b7"
      },
      "execution_count": null,
      "outputs": [
        {
          "output_type": "stream",
          "name": "stdout",
          "text": [
            "2**1 =  2\n",
            "2**2 =  4\n",
            "2**3 =  8\n"
          ]
        }
      ]
    },
    {
      "cell_type": "markdown",
      "source": [
        "연산자의 우선순위\n",
        "- 우리가 흔히 아는 수학에서의 우선순위와 동일\n",
        "  - 곱셈과 나눗셈이 덧셈과 뺄셈보다 우세함\n",
        "  - 괄호로 감싸준 부분이 가장 우세함"
      ],
      "metadata": {
        "id": "nl_FswdbKU3a"
      }
    },
    {
      "cell_type": "code",
      "source": [
        "print((5+3)*2)\n",
        "print(5+3*2)"
      ],
      "metadata": {
        "colab": {
          "base_uri": "https://localhost:8080/"
        },
        "id": "H1WyOal5KlbM",
        "outputId": "5db66fa0-3b35-4377-84fc-1ec5cf611856"
      },
      "execution_count": null,
      "outputs": [
        {
          "output_type": "stream",
          "name": "stdout",
          "text": [
            "16\n",
            "11\n"
          ]
        }
      ]
    },
    {
      "cell_type": "markdown",
      "source": [
        "TypeError 예외\n",
        "- 문자열과 숫자를 + 연산자로 연결한 경우, 문자열에선 + 연산자를 문자열 연결 연산자로 인식하고, 숫자는 + 연산자를 덧셈 연산자로 인식하기 때문에 충돌 발생\n",
        "- 반드시 동일한 자료형끼리 연산자를 사용해야 함"
      ],
      "metadata": {
        "id": "tZEfqx_VKva2"
      }
    },
    {
      "cell_type": "code",
      "source": [
        "string = \"문자열\"\n",
        "number = 273\n",
        "string + number"
      ],
      "metadata": {
        "colab": {
          "base_uri": "https://localhost:8080/",
          "height": 181
        },
        "id": "PaIwWh1mLDZf",
        "outputId": "48607895-8097-476b-ba5d-01562874daee"
      },
      "execution_count": null,
      "outputs": [
        {
          "output_type": "error",
          "ename": "TypeError",
          "evalue": "can only concatenate str (not \"int\") to str",
          "traceback": [
            "\u001b[0;31m---------------------------------------------------------------------------\u001b[0m",
            "\u001b[0;31mTypeError\u001b[0m                                 Traceback (most recent call last)",
            "\u001b[0;32m/tmp/ipython-input-38-4059914816.py\u001b[0m in \u001b[0;36m<cell line: 0>\u001b[0;34m()\u001b[0m\n\u001b[1;32m      1\u001b[0m \u001b[0mstring\u001b[0m \u001b[0;34m=\u001b[0m \u001b[0;34m\"문자열\"\u001b[0m\u001b[0;34m\u001b[0m\u001b[0;34m\u001b[0m\u001b[0m\n\u001b[1;32m      2\u001b[0m \u001b[0mnumber\u001b[0m \u001b[0;34m=\u001b[0m \u001b[0;36m273\u001b[0m\u001b[0;34m\u001b[0m\u001b[0;34m\u001b[0m\u001b[0m\n\u001b[0;32m----> 3\u001b[0;31m \u001b[0mstring\u001b[0m \u001b[0;34m+\u001b[0m \u001b[0mnumber\u001b[0m\u001b[0;34m\u001b[0m\u001b[0;34m\u001b[0m\u001b[0m\n\u001b[0m",
            "\u001b[0;31mTypeError\u001b[0m: can only concatenate str (not \"int\") to str"
          ]
        }
      ]
    },
    {
      "cell_type": "code",
      "source": [
        "# 확인문제\n",
        "# 3. 프로그램의 실행 결과 예측하기\n",
        "print(\"#기본적인 연산\")\n",
        "print(15, \"+\", 4, \"=\", 15+4)\n",
        "print(15, \"-\", 4, \"=\", 15-4)\n",
        "print(15, \"*\", 4, \"=\", 15*4)\n",
        "print(15, \"/\", 4, \"=\", 15/4)"
      ],
      "metadata": {
        "colab": {
          "base_uri": "https://localhost:8080/"
        },
        "id": "aoqu_8_PLNWb",
        "outputId": "491aa28a-14a8-48dd-b172-0d63936abdf1"
      },
      "execution_count": null,
      "outputs": [
        {
          "output_type": "stream",
          "name": "stdout",
          "text": [
            "#기본적인 연산\n",
            "15 + 4 = 19\n",
            "15 - 4 = 11\n",
            "15 * 4 = 60\n",
            "15 / 4 = 3.75\n"
          ]
        }
      ]
    },
    {
      "cell_type": "code",
      "source": [
        "# 4. 3462를 17로 나누었을 때 몫과 나머지를 구하는 프로그램을 만들기\n",
        "print(\"3462를 17로 나누었을 때의\")\n",
        "print(\"- 몫:\", 3462//17)\n",
        "print(\"- 나머지:\", 3462%17)"
      ],
      "metadata": {
        "colab": {
          "base_uri": "https://localhost:8080/"
        },
        "id": "GKicm6DJLn9e",
        "outputId": "17d47bed-d1cb-4c9c-9b5a-58b9e766362b"
      },
      "execution_count": null,
      "outputs": [
        {
          "output_type": "stream",
          "name": "stdout",
          "text": [
            "3462를 17로 나누었을 때의\n",
            "- 몫: 203\n",
            "- 나머지: 11\n"
          ]
        }
      ]
    },
    {
      "cell_type": "code",
      "source": [
        "# 5. 다음 코드의 실행결과를 예측하기\n",
        "print(2+2-2*2/2*2)\n",
        "print(2-2+2/2*2+2)"
      ],
      "metadata": {
        "colab": {
          "base_uri": "https://localhost:8080/"
        },
        "id": "oJ-mjGueL7RZ",
        "outputId": "03d00b0e-22f4-4cb3-a61f-f5f9856d33f9"
      },
      "execution_count": null,
      "outputs": [
        {
          "output_type": "stream",
          "name": "stdout",
          "text": [
            "0.0\n",
            "4.0\n"
          ]
        }
      ]
    }
  ]
}